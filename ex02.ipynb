{
  "nbformat": 4,
  "nbformat_minor": 0,
  "metadata": {
    "colab": {
      "name": "ex02.ipynb",
      "version": "0.3.2",
      "provenance": [],
      "collapsed_sections": []
    },
    "kernelspec": {
      "name": "python3",
      "display_name": "Python 3"
    }
  },
  "cells": [
    {
      "metadata": {
        "id": "AysIKF-uuBwp",
        "colab_type": "text"
      },
      "cell_type": "markdown",
      "source": [
        "\n",
        "\n",
        "```\n",
        "# 2 Asymptotic error\n",
        "```\n",
        "\n"
      ]
    },
    {
      "metadata": {
        "id": "C0Ngrvqiex8s",
        "colab_type": "code",
        "colab": {}
      },
      "cell_type": "code",
      "source": [
        ""
      ],
      "execution_count": 0,
      "outputs": []
    },
    {
      "metadata": {
        "id": "nLdxhMvwjeK5",
        "colab_type": "text"
      },
      "cell_type": "markdown",
      "source": [
        "### 3 Nearest Neighbor Classi cation on Real Data\n",
        "* 3.1 "
      ]
    },
    {
      "metadata": {
        "id": "0SukPEcFe1WS",
        "colab_type": "code",
        "colab": {}
      },
      "cell_type": "code",
      "source": [
        "from sklearn.datasets import load_digits"
      ],
      "execution_count": 0,
      "outputs": []
    },
    {
      "metadata": {
        "id": "rPIa00qleEHL",
        "colab_type": "code",
        "colab": {
          "base_uri": "https://localhost:8080/",
          "height": 35
        },
        "outputId": "0925feb0-2264-4d2a-9884-beb869e458d0"
      },
      "cell_type": "code",
      "source": [
        "digits = load_digits()\n",
        "print(digits.keys())"
      ],
      "execution_count": 2,
      "outputs": [
        {
          "output_type": "stream",
          "text": [
            "dict_keys(['data', 'target', 'target_names', 'images', 'DESCR'])\n"
          ],
          "name": "stdout"
        }
      ]
    },
    {
      "metadata": {
        "id": "OpNtzlNie8Wk",
        "colab_type": "code",
        "colab": {}
      },
      "cell_type": "code",
      "source": [
        "data = digits['data']\n",
        "images = digits['images']\n",
        "target = digits['target']\n",
        "target_names = digits['target_names']"
      ],
      "execution_count": 0,
      "outputs": []
    },
    {
      "metadata": {
        "id": "vCD-9WB-fwUI",
        "colab_type": "code",
        "colab": {
          "base_uri": "https://localhost:8080/",
          "height": 35
        },
        "outputId": "f6c395b2-1b2a-4653-aa29-20e6f8c54af9"
      },
      "cell_type": "code",
      "source": [
        "print(data.dtype,data.shape)"
      ],
      "execution_count": 4,
      "outputs": [
        {
          "output_type": "stream",
          "text": [
            "float64 (1797, 64)\n"
          ],
          "name": "stdout"
        }
      ]
    },
    {
      "metadata": {
        "id": "qbL9gQR_fyoA",
        "colab_type": "code",
        "colab": {}
      },
      "cell_type": "code",
      "source": [
        "import numpy as np\n",
        "import matplotlib.pyplot as plt\n"
      ],
      "execution_count": 0,
      "outputs": []
    },
    {
      "metadata": {
        "id": "W-thhRTJU-Z4",
        "colab_type": "code",
        "colab": {}
      },
      "cell_type": "code",
      "source": [
        "def find_img(images,num):\n",
        "  index = np.where(target==num)\n",
        "  print(index)\n",
        "  img_num = images[index]\n",
        "  return img_num"
      ],
      "execution_count": 0,
      "outputs": []
    },
    {
      "metadata": {
        "id": "Qd2uYzZrh5Mx",
        "colab_type": "code",
        "colab": {
          "base_uri": "https://localhost:8080/",
          "height": 339
        },
        "outputId": "5c361468-9bc7-4438-8c70-e06b208f0767"
      },
      "cell_type": "code",
      "source": [
        "img = find_img(images,3)[0]\n",
        "img.shape"
      ],
      "execution_count": 40,
      "outputs": [
        {
          "output_type": "stream",
          "text": [
            "(array([   3,   13,   23,   45,   59,   60,   62,   63,   83,   89,   91,\n",
            "         98,  103,  133,  143,  153,  175,  189,  190,  192,  193,  213,\n",
            "        217,  219,  226,  231,  259,  269,  279,  301,  315,  316,  318,\n",
            "        319,  339,  345,  347,  354,  359,  385,  389,  399,  409,  431,\n",
            "        445,  446,  448,  449,  469,  475,  477,  484,  489,  519,  529,\n",
            "        539,  561,  575,  576,  578,  579,  599,  605,  607,  614,  619,\n",
            "        649,  659,  669,  691,  705,  706,  708,  709,  729,  735,  737,\n",
            "        744,  749,  779,  789,  799,  821,  835,  836,  838,  839,  859,\n",
            "        865,  867,  874,  879,  908,  918,  928,  950,  961,  962,  964,\n",
            "        965,  985,  990,  992,  999, 1004, 1032, 1042, 1052, 1074, 1086,\n",
            "       1087, 1089, 1090, 1110, 1116, 1118, 1125, 1130, 1160, 1170, 1180,\n",
            "       1202, 1216, 1217, 1219, 1220, 1240, 1246, 1248, 1255, 1260, 1290,\n",
            "       1300, 1310, 1332, 1346, 1347, 1349, 1350, 1370, 1376, 1378, 1385,\n",
            "       1390, 1418, 1428, 1438, 1460, 1474, 1475, 1477, 1478, 1498, 1504,\n",
            "       1506, 1513, 1518, 1548, 1558, 1566, 1588, 1602, 1603, 1605, 1606,\n",
            "       1624, 1630, 1632, 1639, 1644, 1670, 1680, 1690, 1712, 1726, 1727,\n",
            "       1729, 1730, 1750, 1756, 1758, 1765, 1770]),)\n"
          ],
          "name": "stdout"
        },
        {
          "output_type": "execute_result",
          "data": {
            "text/plain": [
              "(8, 8)"
            ]
          },
          "metadata": {
            "tags": []
          },
          "execution_count": 40
        }
      ]
    },
    {
      "metadata": {
        "id": "Dxq7bbR8h553",
        "colab_type": "code",
        "colab": {}
      },
      "cell_type": "code",
      "source": [
        "assert 2 == len(img.shape)"
      ],
      "execution_count": 0,
      "outputs": []
    },
    {
      "metadata": {
        "id": "oNW_NnHaitxP",
        "colab_type": "code",
        "colab": {
          "base_uri": "https://localhost:8080/",
          "height": 347
        },
        "outputId": "534b39d9-2a67-4616-d51a-6d4590d20cf8"
      },
      "cell_type": "code",
      "source": [
        "plt.figure()\n",
        "plt.gray()\n",
        "plt.imshow(img, interpolation=\"nearest\")\n",
        "plt.show()"
      ],
      "execution_count": 14,
      "outputs": [
        {
          "output_type": "display_data",
          "data": {
            "image/png": "[encoded data removed]",
            "text/plain": [
              "<matplotlib.figure.Figure at 0x7fa92f1e7ba8>"
            ]
          },
          "metadata": {
            "tags": []
          }
        }
      ]
    },
    {
      "metadata": {
        "id": "3PNx88qRi4V8",
        "colab_type": "code",
        "colab": {}
      },
      "cell_type": "code",
      "source": [
        "from sklearn.model_selection import train_test_split\n",
        "X_all = data\n",
        "y_all = target\n",
        "X_train, X_test, y_train, y_test = train_test_split(digits.data, digits.target, test_size=0.4,random_state=0)"
      ],
      "execution_count": 0,
      "outputs": []
    },
    {
      "metadata": {
        "id": "FlQHrQlwnjtO",
        "colab_type": "text"
      },
      "cell_type": "markdown",
      "source": [
        "### 3.2 Distance using loop"
      ]
    },
    {
      "metadata": {
        "id": "qVSqNte2jvSO",
        "colab_type": "code",
        "colab": {}
      },
      "cell_type": "code",
      "source": [
        "def dist_loop(train_set, test_set):\n",
        "  \n",
        "  N = train_set.shape[0]\n",
        "  M = test_set.shape[0]\n",
        "  dist_matrix = np.zeros((N,M))\n",
        "  for i in range(N):\n",
        "    for j in range(M):\n",
        "      dist_matrix[i][j] = np.sqrt(np.sum(np.square(train_set[i]-test_set[j]), axis=0))\n",
        "  #print('shape of matrix:', dist_matrix.shape)\n",
        "  return dist_matrix"
      ],
      "execution_count": 0,
      "outputs": []
    },
    {
      "metadata": {
        "id": "phwA3tePn0G3",
        "colab_type": "code",
        "colab": {
          "base_uri": "https://localhost:8080/",
          "height": 35
        },
        "outputId": "98723cda-ee76-4e62-ebc2-95c2cb60d4e3"
      },
      "cell_type": "code",
      "source": [
        "%timeit dist_loop(X_train, X_test)"
      ],
      "execution_count": 17,
      "outputs": [
        {
          "output_type": "stream",
          "text": [
            "1 loop, best of 3: 5.53 s per loop\n"
          ],
          "name": "stdout"
        }
      ]
    },
    {
      "metadata": {
        "id": "Wl1NYRUYV02y",
        "colab_type": "code",
        "colab": {}
      },
      "cell_type": "code",
      "source": [
        "dist_matrix = dist_loop(X_train, X_test)"
      ],
      "execution_count": 0,
      "outputs": []
    },
    {
      "metadata": {
        "id": "UcUSCxQ7n7RD",
        "colab_type": "code",
        "colab": {
          "base_uri": "https://localhost:8080/",
          "height": 35
        },
        "outputId": "d6bf178e-48cb-4f11-80ca-937f2f1b9ea8"
      },
      "cell_type": "code",
      "source": [
        "dist_matrix.shape"
      ],
      "execution_count": 21,
      "outputs": [
        {
          "output_type": "execute_result",
          "data": {
            "text/plain": [
              "(1078, 719)"
            ]
          },
          "metadata": {
            "tags": []
          },
          "execution_count": 21
        }
      ]
    },
    {
      "metadata": {
        "id": "JexlSEdEoRc2",
        "colab_type": "text"
      },
      "cell_type": "markdown",
      "source": [
        "### 3.3 Distance using vectorization"
      ]
    },
    {
      "metadata": {
        "id": "e5RcIXaKpS9W",
        "colab_type": "code",
        "colab": {}
      },
      "cell_type": "code",
      "source": [
        "import numpy\n",
        "na = numpy.newaxis\n"
      ],
      "execution_count": 0,
      "outputs": []
    },
    {
      "metadata": {
        "id": "ktwjlaOnoVjW",
        "colab_type": "code",
        "colab": {}
      },
      "cell_type": "code",
      "source": [
        "def dist_vec(train_set, test_set):\n",
        "  matrix = np.sqrt(np.sum(np.square(train_set[:,:,na]-test_set.T),axis=1))\n",
        "  #print('shape of matrix:', matrix.shape)\n",
        "  return matrix  "
      ],
      "execution_count": 0,
      "outputs": []
    },
    {
      "metadata": {
        "id": "0ddkO0PUp9fi",
        "colab_type": "code",
        "colab": {
          "base_uri": "https://localhost:8080/",
          "height": 35
        },
        "outputId": "b34d0f46-ac8e-4046-962f-e60245582ecd"
      },
      "cell_type": "code",
      "source": [
        "%timeit dist_vec(X_train,X_test)\n"
      ],
      "execution_count": 24,
      "outputs": [
        {
          "output_type": "stream",
          "text": [
            "1 loop, best of 3: 330 ms per loop\n"
          ],
          "name": "stdout"
        }
      ]
    },
    {
      "metadata": {
        "id": "N-PlFUURV88j",
        "colab_type": "code",
        "colab": {}
      },
      "cell_type": "code",
      "source": [
        "matrix = dist_vec(X_train,X_test)\n"
      ],
      "execution_count": 0,
      "outputs": []
    },
    {
      "metadata": {
        "id": "5tpgAPVlsTqw",
        "colab_type": "code",
        "colab": {
          "base_uri": "https://localhost:8080/",
          "height": 35
        },
        "outputId": "a570c231-e6ed-4b5d-b6b0-18f6641dd14d"
      },
      "cell_type": "code",
      "source": [
        "matrix.shape"
      ],
      "execution_count": 26,
      "outputs": [
        {
          "output_type": "execute_result",
          "data": {
            "text/plain": [
              "(1078, 719)"
            ]
          },
          "metadata": {
            "tags": []
          },
          "execution_count": 26
        }
      ]
    },
    {
      "metadata": {
        "id": "VRMhxdBIwHRF",
        "colab_type": "code",
        "colab": {
          "base_uri": "https://localhost:8080/",
          "height": 35
        },
        "outputId": "5ac3f4dd-fb7f-493a-f1da-a1661ca3037c"
      },
      "cell_type": "code",
      "source": [
        "neigbors = np.argsort(matrix,axis=1)[3]\n",
        "neigbors.shape\n"
      ],
      "execution_count": 31,
      "outputs": [
        {
          "output_type": "execute_result",
          "data": {
            "text/plain": [
              "(719,)"
            ]
          },
          "metadata": {
            "tags": []
          },
          "execution_count": 31
        }
      ]
    },
    {
      "metadata": {
        "id": "SyfSyEoSzQps",
        "colab_type": "code",
        "colab": {
          "base_uri": "https://localhost:8080/",
          "height": 607
        },
        "outputId": "c0b7cfab-f5e7-405d-c32f-10eca05f7102"
      },
      "cell_type": "code",
      "source": [
        "y_test[neigbors]"
      ],
      "execution_count": 32,
      "outputs": [
        {
          "output_type": "execute_result",
          "data": {
            "text/plain": [
              "array([0, 0, 0, 0, 0, 0, 0, 0, 0, 0, 0, 0, 0, 0, 0, 0, 0, 0, 0, 0, 0, 0,\n",
              "       0, 0, 0, 0, 0, 0, 0, 0, 0, 0, 0, 0, 0, 0, 0, 0, 0, 0, 0, 0, 0, 0,\n",
              "       0, 0, 0, 0, 0, 0, 0, 0, 0, 0, 0, 0, 0, 2, 4, 0, 6, 6, 9, 0, 6, 8,\n",
              "       9, 9, 4, 9, 8, 5, 4, 4, 6, 9, 8, 5, 5, 5, 9, 0, 9, 8, 9, 8, 8, 8,\n",
              "       8, 9, 8, 4, 5, 7, 4, 2, 9, 6, 6, 4, 4, 4, 4, 6, 5, 9, 6, 4, 9, 5,\n",
              "       4, 6, 5, 9, 3, 8, 8, 6, 9, 8, 6, 8, 6, 9, 5, 3, 7, 5, 8, 3, 6, 9,\n",
              "       5, 6, 6, 6, 9, 4, 6, 4, 4, 9, 7, 9, 5, 6, 9, 6, 5, 6, 5, 8, 5, 7,\n",
              "       4, 4, 7, 8, 8, 5, 9, 5, 6, 9, 4, 8, 6, 8, 4, 6, 8, 3, 8, 4, 6, 5,\n",
              "       8, 6, 5, 4, 5, 5, 3, 5, 7, 5, 6, 5, 5, 9, 6, 9, 9, 5, 7, 9, 7, 4,\n",
              "       8, 8, 4, 8, 9, 3, 8, 3, 8, 1, 8, 3, 6, 8, 6, 6, 2, 9, 5, 7, 7, 4,\n",
              "       4, 6, 5, 9, 4, 6, 8, 8, 6, 5, 4, 7, 5, 8, 8, 6, 5, 8, 9, 8, 4, 6,\n",
              "       9, 8, 7, 8, 3, 2, 4, 9, 9, 2, 8, 4, 5, 8, 2, 4, 8, 6, 2, 2, 6, 8,\n",
              "       2, 4, 8, 5, 6, 5, 7, 6, 5, 8, 2, 3, 2, 8, 9, 5, 5, 2, 8, 6, 9, 2,\n",
              "       3, 3, 3, 5, 8, 5, 6, 3, 5, 7, 4, 1, 8, 8, 7, 3, 3, 4, 4, 8, 5, 9,\n",
              "       5, 4, 8, 3, 8, 9, 6, 9, 5, 3, 8, 6, 9, 4, 8, 8, 8, 6, 4, 3, 9, 8,\n",
              "       6, 2, 6, 2, 3, 9, 5, 5, 6, 3, 2, 3, 8, 1, 3, 7, 8, 8, 3, 8, 2, 3,\n",
              "       6, 2, 3, 3, 9, 1, 7, 5, 7, 2, 7, 7, 4, 6, 4, 3, 7, 6, 9, 5, 3, 3,\n",
              "       3, 6, 8, 4, 7, 5, 6, 9, 5, 3, 8, 5, 6, 4, 3, 6, 4, 9, 7, 9, 5, 2,\n",
              "       6, 4, 7, 6, 8, 8, 4, 7, 3, 5, 9, 6, 4, 5, 1, 6, 4, 4, 9, 5, 8, 7,\n",
              "       8, 5, 3, 8, 5, 1, 9, 7, 4, 3, 2, 8, 3, 6, 1, 7, 5, 7, 2, 7, 6, 2,\n",
              "       7, 1, 5, 5, 9, 3, 2, 5, 3, 1, 3, 3, 6, 9, 2, 8, 5, 3, 4, 3, 9, 9,\n",
              "       9, 7, 2, 3, 8, 6, 3, 1, 2, 9, 6, 3, 4, 2, 2, 2, 9, 6, 5, 1, 4, 2,\n",
              "       9, 1, 2, 3, 4, 7, 3, 8, 7, 1, 5, 6, 2, 5, 1, 8, 8, 2, 3, 1, 5, 3,\n",
              "       7, 2, 7, 1, 9, 6, 5, 8, 3, 3, 6, 1, 2, 1, 5, 9, 2, 1, 5, 6, 3, 7,\n",
              "       5, 2, 7, 5, 1, 7, 6, 9, 1, 7, 3, 7, 7, 8, 2, 3, 7, 5, 3, 3, 9, 5,\n",
              "       3, 1, 9, 3, 3, 9, 3, 7, 3, 7, 4, 3, 5, 7, 5, 2, 5, 8, 5, 6, 5, 1,\n",
              "       8, 2, 7, 2, 2, 3, 2, 9, 6, 1, 7, 2, 4, 2, 1, 1, 5, 1, 2, 5, 5, 9,\n",
              "       5, 1, 3, 1, 6, 4, 1, 9, 2, 2, 2, 3, 1, 1, 1, 6, 2, 4, 4, 2, 4, 4,\n",
              "       5, 3, 4, 9, 5, 3, 1, 9, 7, 2, 7, 1, 9, 5, 7, 2, 7, 7, 2, 6, 1, 2,\n",
              "       3, 1, 7, 7, 7, 2, 7, 2, 2, 7, 2, 2, 2, 7, 8, 4, 2, 9, 2, 7, 2, 1,\n",
              "       2, 9, 1, 1, 2, 1, 1, 7, 2, 1, 1, 9, 1, 3, 9, 2, 9, 7, 5, 1, 6, 1,\n",
              "       5, 1, 1, 7, 5, 1, 5, 5, 1, 1, 4, 1, 1, 1, 1, 1, 1, 7, 1, 2, 1, 1,\n",
              "       1, 7, 2, 1, 1, 1, 1, 1, 1, 1, 1, 1, 1, 6, 1])"
            ]
          },
          "metadata": {
            "tags": []
          },
          "execution_count": 32
        }
      ]
    },
    {
      "metadata": {
        "id": "EAL8rAeMvBik",
        "colab_type": "text"
      },
      "cell_type": "markdown",
      "source": [
        "## 3.4 K-Nearest Neighbors"
      ]
    },
    {
      "metadata": {
        "id": "aCJWBiLDtcTW",
        "colab_type": "code",
        "colab": {}
      },
      "cell_type": "code",
      "source": [
        "# find the neighbor for a given number\n",
        "def knn(train_set, test_set, train_y, test_y, k, number):\n",
        "    distance_matrix = dis_vec(train_set,test_set)\n",
        "    k_neighbors = np.argsort(distance_matrix,axis=1)[number][:k]\n",
        "    return (number, test_y[k_neighbors])"
      ],
      "execution_count": 0,
      "outputs": []
    },
    {
      "metadata": {
        "id": "bdsTq4sRXXX4",
        "colab_type": "code",
        "colab": {}
      },
      "cell_type": "code",
      "source": [
        "idx_3 = np.where(target==3)\n",
        "idx_3\n",
        "X_3,target_3 = digits.data[idx_3], digits.target[idx_3]"
      ],
      "execution_count": 0,
      "outputs": []
    },
    {
      "metadata": {
        "id": "j2RJVBNLaEyx",
        "colab_type": "code",
        "colab": {
          "base_uri": "https://localhost:8080/",
          "height": 35
        },
        "outputId": "31c0a7e7-54e0-4df5-d2fc-1338aca99ae9"
      },
      "cell_type": "code",
      "source": [
        "print(X_3.shape,target_3.shape)"
      ],
      "execution_count": 46,
      "outputs": [
        {
          "output_type": "stream",
          "text": [
            "(183, 64) (183,)\n"
          ],
          "name": "stdout"
        }
      ]
    },
    {
      "metadata": {
        "id": "WAymu0BDztVB",
        "colab_type": "code",
        "colab": {}
      },
      "cell_type": "code",
      "source": [
        "idx_9 = np.where(target==9)\n",
        "idx_9\n",
        "X_9,target_9 = digits.data[idx_9], digits.target[idx_9]"
      ],
      "execution_count": 0,
      "outputs": []
    },
    {
      "metadata": {
        "id": "VQsHF6H2ZcPj",
        "colab_type": "code",
        "colab": {
          "base_uri": "https://localhost:8080/",
          "height": 35
        },
        "outputId": "5189de85-e153-4689-f98a-7a3375df2085"
      },
      "cell_type": "code",
      "source": [
        "print(X_9.shape,target_9.shape)"
      ],
      "execution_count": 48,
      "outputs": [
        {
          "output_type": "stream",
          "text": [
            "(180, 64) (180,)\n"
          ],
          "name": "stdout"
        }
      ]
    },
    {
      "metadata": {
        "id": "kpl-HI90a0uH",
        "colab_type": "code",
        "colab": {}
      },
      "cell_type": "code",
      "source": [
        ""
      ],
      "execution_count": 0,
      "outputs": []
    }
  ]
}